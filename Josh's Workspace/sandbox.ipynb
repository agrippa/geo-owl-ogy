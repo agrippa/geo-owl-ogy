{
 "cells": [
  {
   "cell_type": "code",
   "execution_count": 1,
   "metadata": {},
   "outputs": [],
   "source": [
    "%matplotlib inline\n",
    "import segpy\n",
    "from segpy.reader import create_reader\n",
    "from segpy.writer import write_segy\n",
    "\n",
    "import numpy as np\n",
    "import matplotlib\n",
    "import matplotlib.pyplot\n",
    "from PIL import Image\n",
    "\n",
    "import os\n",
    "import shutil\n",
    "\n",
    "from collections import defaultdict, Counter\n",
    "import joblib\n",
    "import pickle\n",
    "\n",
    "from scipy.stats import mode\n",
    "from scipy.special import kl_div\n",
    "from scipy.stats import entropy\n",
    "\n",
    "from sklearn.preprocessing import MinMaxScaler\n",
    "\n",
    "%run bp_smc_example.ipynb"
   ]
  },
  {
   "cell_type": "code",
   "execution_count": 2,
   "metadata": {},
   "outputs": [
    {
     "data": {
      "text/plain": [
       "120"
      ]
     },
     "execution_count": 2,
     "metadata": {},
     "output_type": "execute_result"
    }
   ],
   "source": [
    "len(os.listdir('small_dataset'))"
   ]
  },
  {
   "cell_type": "code",
   "execution_count": 3,
   "metadata": {},
   "outputs": [],
   "source": [
    "# split up stack and gather files into separate directories\n",
    "for filename in os.listdir('small_dataset'):\n",
    "    src = 'small_dataset/' + filename\n",
    "    if 'gather' in filename:\n",
    "        dst = 'gather/' + filename\n",
    "        shutil.copy(src, dst)\n",
    "    if 'stack' in filename:\n",
    "        dst = 'stack/' + filename\n",
    "        shutil.copy(src, dst)"
   ]
  },
  {
   "cell_type": "code",
   "execution_count": 5,
   "metadata": {},
   "outputs": [
    {
     "name": "stdout",
     "output_type": "stream",
     "text": [
      "Filename:              stack/img_12.stack.segy\n",
      "SEG Y revision:        SegYRevision.REVISION_0\n",
      "Number of traces:      1058\n",
      "Data format:           IBM 32 bit float\n",
      "Dimensionality:        0\n",
      "\n",
      "=== BEGIN TEXTUAL REEL HEADER ===\n",
      "C01  BP syntheitc Date: 05/20/2019                                              \n",
      "C02  image stack scenario with the following dimension                          \n",
      "C03  axis  :         z         x         y                                      \n",
      "C04  size  :       400      1058         1                                      \n",
      "C05  origin:   0.00000   0.00000   0.00000                                      \n",
      "C06  delta :  10.00000  10.00000  10.00000                                      \n",
      "=== END TEXTUAL REEL HEADER ===\n"
     ]
    }
   ],
   "source": [
    "print_segy_info('stack/img_12.stack.segy')"
   ]
  },
  {
   "cell_type": "code",
   "execution_count": 29,
   "metadata": {},
   "outputs": [],
   "source": [
    "# make a dictionary of arrays for every realization in stack\n",
    "stack_dict = {}\n",
    "for filename in os.listdir('stack')[1:-1]:\n",
    "    arr = np.zeros((1058, 400))\n",
    "\n",
    "    with open(f'stack/{filename}', 'rb') as segy_in_file:\n",
    "        segy_reader = create_reader(segy_in_file, endian='>')\n",
    "\n",
    "        for trace_index in segy_reader.trace_indexes():\n",
    "            data = segy_reader.trace_samples(trace_index)\n",
    "            for i in range(len(data)):\n",
    "                arr[trace_index, i] = data[i]\n",
    "    stack_dict[filename] = arr"
   ]
  },
  {
   "cell_type": "code",
   "execution_count": 30,
   "metadata": {},
   "outputs": [
    {
     "ename": "KeyboardInterrupt",
     "evalue": "",
     "output_type": "error",
     "traceback": [
      "\u001b[1;31m---------------------------------------------------------------------------\u001b[0m",
      "\u001b[1;31mKeyboardInterrupt\u001b[0m                         Traceback (most recent call last)",
      "\u001b[1;32m<ipython-input-30-0d208033ad2f>\u001b[0m in \u001b[0;36m<module>\u001b[1;34m\u001b[0m\n\u001b[0;32m     10\u001b[0m             \u001b[0mdata\u001b[0m \u001b[1;33m=\u001b[0m \u001b[0msegy_reader\u001b[0m\u001b[1;33m.\u001b[0m\u001b[0mtrace_samples\u001b[0m\u001b[1;33m(\u001b[0m\u001b[0mtrace_index\u001b[0m\u001b[1;33m)\u001b[0m\u001b[1;33m\u001b[0m\u001b[1;33m\u001b[0m\u001b[0m\n\u001b[0;32m     11\u001b[0m             \u001b[1;32mfor\u001b[0m \u001b[0mi\u001b[0m \u001b[1;32min\u001b[0m \u001b[0mrange\u001b[0m\u001b[1;33m(\u001b[0m\u001b[0mlen\u001b[0m\u001b[1;33m(\u001b[0m\u001b[0mdata\u001b[0m\u001b[1;33m)\u001b[0m\u001b[1;33m)\u001b[0m\u001b[1;33m:\u001b[0m\u001b[1;33m\u001b[0m\u001b[1;33m\u001b[0m\u001b[0m\n\u001b[1;32m---> 12\u001b[1;33m                 \u001b[0marr\u001b[0m\u001b[1;33m[\u001b[0m\u001b[0mint\u001b[0m\u001b[1;33m(\u001b[0m\u001b[0mtrace_index\u001b[0m \u001b[1;33m/\u001b[0m \u001b[1;36m39\u001b[0m\u001b[1;33m)\u001b[0m\u001b[1;33m,\u001b[0m \u001b[0mtrace_index\u001b[0m \u001b[1;33m%\u001b[0m \u001b[1;36m39\u001b[0m\u001b[1;33m,\u001b[0m \u001b[0mi\u001b[0m\u001b[1;33m]\u001b[0m \u001b[1;33m=\u001b[0m \u001b[0mdata\u001b[0m\u001b[1;33m[\u001b[0m\u001b[0mi\u001b[0m\u001b[1;33m]\u001b[0m\u001b[1;33m\u001b[0m\u001b[1;33m\u001b[0m\u001b[0m\n\u001b[0m\u001b[0;32m     13\u001b[0m     \u001b[0mgather_dict\u001b[0m\u001b[1;33m[\u001b[0m\u001b[0mfilename\u001b[0m\u001b[1;33m]\u001b[0m \u001b[1;33m=\u001b[0m \u001b[0marr\u001b[0m\u001b[1;33m\u001b[0m\u001b[1;33m\u001b[0m\u001b[0m\n",
      "\u001b[1;31mKeyboardInterrupt\u001b[0m: "
     ]
    }
   ],
   "source": [
    "# make a dictionary of arrays for every realization in stack\n",
    "gather_dict = {}\n",
    "for filename in os.listdir('gather')[1:-1]:\n",
    "    arr = np.zeros((1058, 39, 400))\n",
    "    with open(f'gather/{filename}', 'rb') as segy_in_file:\n",
    "        segy_reader = create_reader(segy_in_file, endian='>')\n",
    "\n",
    "        count = 0\n",
    "        for trace_index in segy_reader.trace_indexes():\n",
    "            data = segy_reader.trace_samples(trace_index)\n",
    "            for i in range(len(data)):\n",
    "                arr[int(trace_index / 39), trace_index % 39, i] = data[i]\n",
    "    gather_dict[filename] = arr"
   ]
  },
  {
   "cell_type": "code",
   "execution_count": 31,
   "metadata": {},
   "outputs": [],
   "source": [
    "# load the two dictionaries into the directory to use later\n",
    "joblib.dump(stack_dict, 'stack_dict')\n",
    "stack_dict = joblib.load(open('stack_dict', 'rb'))\n",
    "\n",
    "# joblib.dump(gather_dict, 'gather_dict')\n",
    "# gather_dict = joblib.load(open('gather_dict', 'rb'))"
   ]
  },
  {
   "cell_type": "code",
   "execution_count": 41,
   "metadata": {
    "collapsed": true,
    "jupyter": {
     "outputs_hidden": true
    }
   },
   "outputs": [
    {
     "name": "stdout",
     "output_type": "stream",
     "text": [
      "img_1.stack.segy\n",
      "(1058, 400)\n",
      "img_10.stack.segy\n",
      "(1058, 400)\n",
      "img_11.stack.segy\n",
      "(1058, 400)\n",
      "img_12.stack.segy\n",
      "(1058, 400)\n",
      "img_13.stack.segy\n",
      "(1058, 400)\n",
      "img_14.stack.segy\n",
      "(1058, 400)\n",
      "img_15.stack.segy\n",
      "(1058, 400)\n",
      "img_16.stack.segy\n",
      "(1058, 400)\n",
      "img_17.stack.segy\n",
      "(1058, 400)\n",
      "img_18.stack.segy\n",
      "(1058, 400)\n",
      "img_19.stack.segy\n",
      "(1058, 400)\n",
      "img_2.stack.segy\n",
      "(1058, 400)\n",
      "img_20.stack.segy\n",
      "(1058, 400)\n",
      "img_21.stack.segy\n",
      "(1058, 400)\n",
      "img_22.stack.segy\n",
      "(1058, 400)\n",
      "img_23.stack.segy\n",
      "(1058, 400)\n",
      "img_24.stack.segy\n",
      "(1058, 400)\n",
      "img_25.stack.segy\n",
      "(1058, 400)\n",
      "img_26.stack.segy\n",
      "(1058, 400)\n",
      "img_27.stack.segy\n",
      "(1058, 400)\n",
      "img_28.stack.segy\n",
      "(1058, 400)\n",
      "img_29.stack.segy\n",
      "(1058, 400)\n",
      "img_3.stack.segy\n",
      "(1058, 400)\n",
      "img_30.stack.segy\n",
      "(1058, 400)\n",
      "img_31.stack.segy\n",
      "(1058, 400)\n",
      "img_32.stack.segy\n",
      "(1058, 400)\n",
      "img_33.stack.segy\n",
      "(1058, 400)\n",
      "img_34.stack.segy\n",
      "(1058, 400)\n",
      "img_35.stack.segy\n",
      "(1058, 400)\n",
      "img_36.stack.segy\n",
      "(1058, 400)\n",
      "img_37.stack.segy\n",
      "(1058, 400)\n",
      "img_38.stack.segy\n",
      "(1058, 400)\n",
      "img_39.stack.segy\n",
      "(1058, 400)\n",
      "img_4.stack.segy\n",
      "(1058, 400)\n",
      "img_40.stack.segy\n",
      "(1058, 400)\n",
      "img_41.stack.segy\n",
      "(1058, 400)\n",
      "img_42.stack.segy\n",
      "(1058, 400)\n",
      "img_43.stack.segy\n",
      "(1058, 400)\n",
      "img_44.stack.segy\n",
      "(1058, 400)\n",
      "img_45.stack.segy\n",
      "(1058, 400)\n",
      "img_46.stack.segy\n",
      "(1058, 400)\n",
      "img_47.stack.segy\n",
      "(1058, 400)\n",
      "img_48.stack.segy\n",
      "(1058, 400)\n",
      "img_49.stack.segy\n",
      "(1058, 400)\n",
      "img_5.stack.segy\n",
      "(1058, 400)\n",
      "img_50.stack.segy\n",
      "(1058, 400)\n",
      "img_51.stack.segy\n",
      "(1058, 400)\n",
      "img_52.stack.segy\n",
      "(1058, 400)\n",
      "img_53.stack.segy\n",
      "(1058, 400)\n",
      "img_54.stack.segy\n",
      "(1058, 400)\n",
      "img_55.stack.segy\n",
      "(1058, 400)\n",
      "img_56.stack.segy\n",
      "(1058, 400)\n",
      "img_57.stack.segy\n",
      "(1058, 400)\n",
      "img_58.stack.segy\n",
      "(1058, 400)\n",
      "img_59.stack.segy\n",
      "(1058, 400)\n",
      "img_6.stack.segy\n",
      "(1058, 400)\n",
      "img_7.stack.segy\n",
      "(1058, 400)\n",
      "img_8.stack.segy\n",
      "(1058, 400)\n"
     ]
    }
   ],
   "source": [
    "for key in stack_dict.keys():\n",
    "    print(key)\n",
    "    print(stack_dict[key].shape)\n",
    "\n",
    "\n",
    "# there 1058 instances of 400 elements arrays"
   ]
  },
  {
   "cell_type": "code",
   "execution_count": 8,
   "metadata": {},
   "outputs": [],
   "source": [
    "# turn dictionary into pixel arrays (1058 x 400)\n",
    "stack_arr = {}\n",
    "\n",
    "for key in stack_dict.keys():\n",
    "    arr = stack_dict[key]\n",
    "    arr = arr.transpose()\n",
    "    min_arr = arr.min()\n",
    "    max_arr = arr.max()\n",
    "    arr = (arr - min_arr) / (max_arr - min_arr)\n",
    "    arr = arr * 255\n",
    "    stack_arr[key] = arr\n"
   ]
  },
  {
   "cell_type": "code",
   "execution_count": 9,
   "metadata": {},
   "outputs": [],
   "source": [
    "def mode_func(x):\n",
    "    values, counts = np.unique(x, return_counts=True)\n",
    "    m = counts.argmax()\n",
    "    return values[m], \n",
    "\n",
    "def kl_divergence(p, q):\n",
    "    return np.sum(np.where(p != 0, p * np.log(p / q), 0))"
   ]
  },
  {
   "cell_type": "code",
   "execution_count": 87,
   "metadata": {},
   "outputs": [],
   "source": [
    "# function computes the uncertainty image of all the stack segy files\n",
    "cnt = Counter()\n",
    "\n",
    "def uncertainty_image(pixel_arr):\n",
    "    kl_scores = []\n",
    "    images = []\n",
    "    kl_arr = np.zeros((58, 1058, 400))\n",
    "    i = 0\n",
    "    for key in pixel_arr.keys():\n",
    "        j = 0\n",
    "        for arr in pixel_arr[key]:\n",
    "#             print(arr.shape)\n",
    "#             return None\n",
    "            bins = np.linspace(arr.min(), arr.max(), num=10)\n",
    "            binned_arr = np.digitize(arr, bins)\n",
    "\n",
    "            cnt = Counter()\n",
    "            for val in binned_arr:\n",
    "                cnt[val] += 1\n",
    "            cnt = sorted(cnt.items())\n",
    "\n",
    "            freq_arr = [x[1] for x in cnt]\n",
    "            max_val = max(freq_arr)\n",
    "            mode_bin = freq_arr.index(max(freq_arr)) + 1\n",
    "            onehot_arr = [1e-9 if x != max_val else 1 for x in freq_arr]\n",
    "            freq_arr = np.array(freq_arr) / 400\n",
    "\n",
    "\n",
    "            kl_score = kl_divergence(freq_arr, onehot_arr)\n",
    "            kl_scores.append(kl_score)\n",
    "\n",
    "            score_arr = np.full((400, 1), kl_score).flatten()\n",
    "\n",
    "            kl_arr[i, j, :] = score_arr\n",
    "#             print(kl_arr[i, j, :])\n",
    "            \n",
    "            j += 1\n",
    "            \n",
    "        score_arr = kl_arr[i, :, :]\n",
    "        min_arr = arr.min()\n",
    "        max_arr = arr.max()\n",
    "        score_arr = (score_arr - min_arr) / (max_arr - min_arr)\n",
    "        score_arr = score_arr * 255\n",
    "        \n",
    "        im = Image.fromarray(score_arr)\n",
    "        im = im.convert('RGB')\n",
    "        images.append(im)\n",
    "        \n",
    "        i += 1\n",
    "\n",
    "    return kl_arr, images"
   ]
  },
  {
   "cell_type": "code",
   "execution_count": 88,
   "metadata": {},
   "outputs": [],
   "source": [
    "kl_arr, images, i, j = uncertainty_image(stack_dict)\n",
    "# dictionary = sorted(Counter(kl_scores).items())"
   ]
  },
  {
   "cell_type": "code",
   "execution_count": 91,
   "metadata": {},
   "outputs": [
    {
     "data": {
      "text/plain": [
       "(3.057268359366441, 10.962654365601596)"
      ]
     },
     "execution_count": 91,
     "metadata": {},
     "output_type": "execute_result"
    }
   ],
   "source": [
    "kl_arr[0].min(), kl_arr[0].max()"
   ]
  },
  {
   "cell_type": "code",
   "execution_count": 89,
   "metadata": {},
   "outputs": [
    {
     "data": {
      "image/png": "[encoded data removed]",
      "text/plain": [
       "<PIL.Image.Image image mode=RGB size=400x1058 at 0x18514396D08>"
      ]
     },
     "execution_count": 89,
     "metadata": {},
     "output_type": "execute_result"
    }
   ],
   "source": [
    "images[25]"
   ]
  },
  {
   "cell_type": "code",
   "execution_count": null,
   "metadata": {},
   "outputs": [],
   "source": []
  }
 ],
 "metadata": {
  "kernelspec": {
   "display_name": "Python 3",
   "language": "python",
   "name": "python3"
  },
  "language_info": {
   "codemirror_mode": {
    "name": "ipython",
    "version": 3
   },
   "file_extension": ".py",
   "mimetype": "text/x-python",
   "name": "python",
   "nbconvert_exporter": "python",
   "pygments_lexer": "ipython3",
   "version": "3.7.6"
  }
 },
 "nbformat": 4,
 "nbformat_minor": 4
}
